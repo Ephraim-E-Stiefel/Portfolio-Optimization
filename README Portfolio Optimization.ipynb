{
 "cells": [
  {
   "cell_type": "markdown",
   "id": "6ba23c40-7dea-452f-aafc-9ad196749ca7",
   "metadata": {},
   "source": [
    "# Portfolio Optimization\n",
    "\n",
    "This project demonstrates a basic implementation of portfolio optimization, specifically focusing on maximizing the Sharpe Ratio. It allows users to analyze historical stock data, calculate portfolio returns and volatility, and find optimal asset allocations.\n",
    "\n",
    "## Features\n",
    "\n",
    "* **Stock Data Acquisition:** Downloads historical adjusted closing prices for selected tickers using `yfinance`.\n",
    "* **Log Returns and Covariance:** Calculates daily log returns and the annualized covariance matrix.\n",
    "* **Portfolio Metrics:** Defines functions to calculate portfolio standard deviation, expected return, and Sharpe Ratio.\n",
    "* **Sharpe Ratio Maximization:** Utilizes `scipy.optimize.minimize` to find the optimal portfolio weights that maximize the Sharpe Ratio (by minimizing its negative).\n",
    "* **Result Output:** Displays the optimal weights, expected annual return, expected volatility, and Sharpe Ratio of the optimized portfolio.\n",
    "\n",
    "## How to Run\n",
    "\n",
    "To run this project, follow these steps:\n",
    "\n",
    "1.  **Clone the repository:**\n",
    "    ```bash\n",
    "    git clone [https://github.com/YourUsername/Portfolio-Optimization.git](https://github.com/YourUsername/Portfolio-Optimization.git)\n",
    "    cd Portfolio-Optimization\n",
    "    ```\n",
    "2.  **Create a virtual environment (recommended):**\n",
    "    ```bash\n",
    "    python -m venv env\n",
    "    source env/bin/activate  # On Windows: .\\env\\Scripts\\activate\n",
    "    ```\n",
    "3.  **Install the required libraries:**\n",
    "    ```bash\n",
    "    pip install yfinance pandas numpy scipy matplotlib\n",
    "    ```\n",
    "4.  **Open and run the Jupyter Notebook:**\n",
    "    ```bash\n",
    "    jupyter notebook \"Portfolio Optimization.ipynb\"\n",
    "    ```\n",
    "    Then, execute the cells in the notebook sequentially.\n",
    "\n",
    "## Dependencies\n",
    "\n",
    "* Python 3.x\n",
    "* `yfinance`\n",
    "* `pandas`\n",
    "* `numpy`\n",
    "* `scipy`\n",
    "* `matplotlib` (for plotting)\n",
    "\n",
    "## Future Enhancements\n",
    "\n",
    "* Integrate a dynamic risk-free rate from an external API (e.g., FRED).\n",
    "* Add backtesting functionality to evaluate optimized portfolio performance against benchmarks.\n",
    "* Implement Monte Carlo simulations for visualizing the efficient frontier.\n",
    "* Explore other optimization strategies (e.g., minimizing volatility for a target return).\n"
   ]
  }
 ],
 "metadata": {
  "kernelspec": {
   "display_name": "Python [conda env:base] *",
   "language": "python",
   "name": "conda-base-py"
  },
  "language_info": {
   "codemirror_mode": {
    "name": "ipython",
    "version": 3
   },
   "file_extension": ".py",
   "mimetype": "text/x-python",
   "name": "python",
   "nbconvert_exporter": "python",
   "pygments_lexer": "ipython3",
   "version": "3.12.7"
  }
 },
 "nbformat": 4,
 "nbformat_minor": 5
}

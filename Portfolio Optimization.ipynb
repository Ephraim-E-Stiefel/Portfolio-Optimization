{
 "cells": [
  {
   "cell_type": "markdown",
   "id": "990dfeaa-c0d3-4af2-a3f3-1a988c14b209",
   "metadata": {},
   "source": [
    "### Portfolio Optimization ###"
   ]
  },
  {
   "cell_type": "markdown",
   "id": "8662eaa0-b15a-42d6-8c60-b0775ac0f975",
   "metadata": {},
   "source": [
    "Section 1: Preparation"
   ]
  },
  {
   "cell_type": "code",
   "execution_count": 169,
   "id": "b4470b74-5ca7-40d6-9ee1-e09313066520",
   "metadata": {},
   "outputs": [],
   "source": [
    "# Import necessary tools (libraries) for data handling, finance data download, dates, and math\n",
    "import yfinance as yf \n",
    "import pandas as pd\n",
    "from datetime import datetime, timedelta\n",
    "import numpy as np\n",
    "from scipy.optimize import minimize"
   ]
  },
  {
   "cell_type": "code",
   "execution_count": 170,
   "id": "5b4e5124-9a88-48ea-a72c-a6e6acea8fba",
   "metadata": {},
   "outputs": [],
   "source": [
    "# Define a list of stock symbols (tickers) that for analyzis.\n",
    "tickers = ['AAPL', 'MSFT', 'GOOG', 'AMZN', 'JPM', 'GS', 'XOM', 'PG', 'KO', 'JNJ', 'SPY', 'GLD']"
   ]
  },
  {
   "cell_type": "code",
   "execution_count": 171,
   "id": "2735c565-cd7b-45c4-89ab-028ac3311620",
   "metadata": {},
   "outputs": [
    {
     "name": "stdout",
     "output_type": "stream",
     "text": [
      "2015-07-28 16:12:06.411218\n",
      "2025-07-25 16:12:06.411218\n"
     ]
    }
   ],
   "source": [
    "# Set the end date for our data to today, and the start date to 10 years ago.\n",
    "end_date = datetime.today()\n",
    "start_date = end_date - timedelta (days = 10 * 365)\n",
    "# verification\n",
    "print(start_date) \n",
    "print (end_date) "
   ]
  },
  {
   "cell_type": "markdown",
   "id": "f713eb35-d0aa-40cf-9ff3-2be3e460fc7b",
   "metadata": {},
   "source": [
    "Section 2: Download Close Prices"
   ]
  },
  {
   "cell_type": "code",
   "execution_count": 173,
   "id": "666f9768-1156-4a42-af6e-e52489a96846",
   "metadata": {},
   "outputs": [],
   "source": [
    "# Create an empty table (DataFrame) to hold the adjusted closing prices of stocks.\n",
    "adj_close_df = pd.DataFrame()\n",
    "# Loop through each stock ticker and download its historical 'Close' prices. 'Close' downloaded from yahoo finance are 'Adjusted Close' prices.\n",
    "for ticker in tickers:\n",
    "    data = yf.download(ticker, start = start_date, end = end_date, progress = False)\n",
    "    adj_close_df[ticker] = data['Close']"
   ]
  },
  {
   "cell_type": "code",
   "execution_count": 174,
   "id": "9b1edb06-6461-43a8-8f53-1df52456e54e",
   "metadata": {},
   "outputs": [
    {
     "data": {
      "text/plain": [
       "Date\n",
       "2015-07-28     27.633028\n",
       "2015-07-29     27.545685\n",
       "2015-07-30     27.406822\n",
       "2015-07-31     27.167181\n",
       "2015-08-03     26.526628\n",
       "                 ...    \n",
       "2025-07-21    212.479996\n",
       "2025-07-22    214.399994\n",
       "2025-07-23    214.149994\n",
       "2025-07-24    213.759995\n",
       "2025-07-25    214.195007\n",
       "Name: AAPL, Length: 2514, dtype: float64"
      ]
     },
     "execution_count": 174,
     "metadata": {},
     "output_type": "execute_result"
    }
   ],
   "source": [
    "# Display the 'Adjusted Close' prices for AAPL to verify the data download.\n",
    "adj_close_df['AAPL']"
   ]
  },
  {
   "cell_type": "markdown",
   "id": "61bccdea-98f6-4930-b4e0-77b526116006",
   "metadata": {},
   "source": [
    "Section 3: Calculate Lognromal Returns"
   ]
  },
  {
   "cell_type": "code",
   "execution_count": 176,
   "id": "da8b62d1-9ea5-42e5-b702-17db42f42dc9",
   "metadata": {},
   "outputs": [
    {
     "name": "stdout",
     "output_type": "stream",
     "text": [
      "                AAPL      MSFT      GOOG      AMZN       JPM        GS  \\\n",
      "Date                                                                     \n",
      "2015-07-29 -0.003166  0.020737  0.006238  0.005630  0.012994  0.002905   \n",
      "2015-07-30 -0.005054  0.012665  0.001044  0.014563  0.001449  0.001739   \n",
      "2015-07-31 -0.008782 -0.003847 -0.011095 -0.001137 -0.007415 -0.010333   \n",
      "2015-08-03 -0.023861  0.002352  0.008911 -0.002091  0.000000 -0.001855   \n",
      "2015-08-04 -0.032610  0.015475 -0.003110 -0.005867 -0.001022  0.002342   \n",
      "\n",
      "                 XOM        PG        KO       JNJ       SPY       GLD  \n",
      "Date                                                                    \n",
      "2015-07-29  0.007970  0.004850  0.000986  0.007145  0.006856  0.001427  \n",
      "2015-07-30 -0.001565 -0.040889 -0.000739  0.001102  0.000237 -0.008594  \n",
      "2015-07-31 -0.046859 -0.008956  0.012740  0.003699 -0.001519  0.006310  \n",
      "2015-08-03 -0.014625 -0.003919  0.011135 -0.001898 -0.003379 -0.007942  \n",
      "2015-08-04 -0.011467 -0.006434  0.007435 -0.002202 -0.001956  0.002015  \n",
      "AAPL    0.000815\n",
      "MSFT    0.001022\n",
      "GOOG    0.000728\n",
      "AMZN    0.000866\n",
      "JPM     0.000695\n",
      "GS      0.000579\n",
      "XOM     0.000289\n",
      "PG      0.000379\n",
      "KO      0.000337\n",
      "JNJ     0.000322\n",
      "SPY     0.000510\n",
      "GLD     0.000428\n",
      "dtype: float64\n"
     ]
    }
   ],
   "source": [
    "# Calculate the daily percentage change (returns) for each stock, using logarithms.\n",
    "log_returns = np.log(adj_close_df/adj_close_df.shift(1))\n",
    "# Remove any rows that have missing values (e.g., the very first row, which has no previous day to compare to).\n",
    "log_returns = log_returns.dropna()\n",
    "# Display the first few rows of the calculated log returns.\n",
    "print(log_returns.head())\n",
    "print(log_returns.mean())"
   ]
  },
  {
   "cell_type": "markdown",
   "id": "91ac49bc-cdb9-4522-97ec-ce98c28bc1e0",
   "metadata": {},
   "source": [
    "Section 4: Calculate Covariance Matrix"
   ]
  },
  {
   "cell_type": "code",
   "execution_count": 178,
   "id": "3ccba6f8-3eba-4991-8620-25a97ac0461f",
   "metadata": {},
   "outputs": [
    {
     "name": "stdout",
     "output_type": "stream",
     "text": [
      "          AAPL      MSFT      GOOG      AMZN       JPM        GS       XOM  \\\n",
      "AAPL  0.086085  0.054863  0.051974  0.056007  0.035514  0.042314  0.026741   \n",
      "MSFT  0.054863  0.073708  0.056872  0.060524  0.034237  0.039795  0.021790   \n",
      "GOOG  0.051974  0.056872  0.082651  0.062813  0.033599  0.039700  0.023399   \n",
      "AMZN  0.056007  0.060524  0.062813  0.107264  0.029591  0.038716  0.018234   \n",
      "JPM   0.035514  0.034237  0.033599  0.029591  0.077018  0.068510  0.043343   \n",
      "GS    0.042314  0.039795  0.039700  0.038716  0.068510  0.088411  0.043713   \n",
      "XOM   0.026741  0.021790  0.023399  0.018234  0.043343  0.043713  0.079772   \n",
      "PG    0.019980  0.020028  0.015602  0.013214  0.017043  0.016244  0.013387   \n",
      "KO    0.018778  0.018604  0.016223  0.012116  0.022178  0.020073  0.019719   \n",
      "JNJ   0.017517  0.017345  0.014748  0.011891  0.019071  0.018315  0.016405   \n",
      "SPY   0.040800  0.039957  0.038389  0.039691  0.036932  0.040615  0.028324   \n",
      "GLD   0.001306  0.001009  0.001614  0.001687 -0.004155 -0.003095  0.001916   \n",
      "\n",
      "            PG        KO       JNJ       SPY       GLD  \n",
      "AAPL  0.019980  0.018778  0.017517  0.040800  0.001306  \n",
      "MSFT  0.020028  0.018604  0.017345  0.039957  0.001009  \n",
      "GOOG  0.015602  0.016223  0.014748  0.038389  0.001614  \n",
      "AMZN  0.013214  0.012116  0.011891  0.039691  0.001687  \n",
      "JPM   0.017043  0.022178  0.019071  0.036932 -0.004155  \n",
      "GS    0.016244  0.020073  0.018315  0.040615 -0.003095  \n",
      "XOM   0.013387  0.019719  0.016405  0.028324  0.001916  \n",
      "PG    0.035512  0.021517  0.018520  0.017268  0.001845  \n",
      "KO    0.021517  0.033016  0.017117  0.018448  0.002149  \n",
      "JNJ   0.018520  0.017117  0.034341  0.016402  0.000810  \n",
      "SPY   0.017268  0.018448  0.016402  0.033592  0.001217  \n",
      "GLD   0.001845  0.002149  0.000810  0.001217  0.020865  \n"
     ]
    }
   ],
   "source": [
    "# Annualize returns and covariance assuming 252 trading days in a year\n",
    "annual_returns = log_returns.mean() * 252\n",
    "# Calculate the covariance matrix using annualized log returns.\n",
    "cov_matrix = log_returns.cov() * 252\n",
    "print(cov_matrix)"
   ]
  },
  {
   "cell_type": "markdown",
   "id": "a6b47a6a-4d60-4ef5-a1f3-bf6a536ea9fc",
   "metadata": {},
   "source": [
    "Section 5: Define Portfolio Performance Matrics"
   ]
  },
  {
   "cell_type": "code",
   "execution_count": 180,
   "id": "1d41cdc2-0498-4952-9392-4c101bdbc7a2",
   "metadata": {},
   "outputs": [],
   "source": [
    "# Define a function to calculate the portfolio's standard deviation (risk/vlatility),\n",
    "def standard_deviation (weights, cov_matrix):\n",
    "    \"\"\"\n",
    "    Calculates the annualized standard deviation (volatility) of a portfolio.\n",
    "    This function measures the risk of the portfolio – how much its value might fluctuate.\n",
    "    It uses matrix multiplication to combine individual stock risks and their relationships to represent the combined volatility.\n",
    "\n",
    "    Formula:\n",
    "        Portfolio Volatility = sqrt(weights.T @ Covariance_Matrix @ weights)\n",
    "        Where:\n",
    "        - weights.T is the transpose of the weights vector.\n",
    "        - @ denotes matrix multiplication.\n",
    "\n",
    "    Args:\n",
    "        weights (np.array): (m,) Array of portfolio weights for each asset,\n",
    "                            where m is the number of assets.\n",
    "                            (Represents the proportion of the total investment in each stock/asset).\n",
    "        cov_matrix (pd.DataFrame or np.array): (m, n) Annualized covariance matrix of asset returns.\n",
    "                                                (Measures how much each pair of stocks moves together,\n",
    "                                                scaled to an annual basis).\n",
    "\n",
    "    Returns:\n",
    "        float: The annualized portfolio standard deviation (volatility).\n",
    "    \"\"\"\n",
    "    variance = weights.T @ cov_matrix @ weights \n",
    "    return np.sqrt(variance)"
   ]
  },
  {
   "cell_type": "code",
   "execution_count": 181,
   "id": "bc040170-efb3-4d29-8702-fceea3ec2788",
   "metadata": {},
   "outputs": [],
   "source": [
    "# Define a function to calculate the portfolio's expected return.\n",
    "def expected_return (weights, log_returns):\n",
    "    \"\"\"\n",
    "    Calculates the annualized expected return of a portfolio.\n",
    "    This function estimates how much profit a portfolio is expected to make per year.\n",
    "\n",
    "    Formula:\n",
    "        Expected Return = sum( (Average Daily Log Return for each asset * its weight) ) * 252\n",
    "        Where:\n",
    "        - 252 is the approximate number of trading days in a year for annualization.\n",
    "\n",
    "    Args:\n",
    "        weights (np.array): (m,) Array of portfolio weights for each asset,\n",
    "                            where m is the number of assets.\n",
    "        log_returns (pd.DataFrame): (m, n) DataFrame of daily logarithmic returns for assets,\n",
    "                                    where m is the number of trading days and n is the number of assets.\n",
    "\n",
    "    Returns:\n",
    "        float: The annualized expected return of the portfolio.\n",
    "    \"\"\"\n",
    "    return np.sum(log_returns.mean()*weights)*252"
   ]
  },
  {
   "cell_type": "code",
   "execution_count": 182,
   "id": "aaf7bb6c-2cef-41d8-9030-b4c8222b66d4",
   "metadata": {},
   "outputs": [],
   "source": [
    "# Define a function to calculate the Sharpe Ratio. \n",
    "def sharpe_ratio (weights, log_returns, cov_matrix, risk_free_rate):\n",
    "    \"\"\"\n",
    "    Calculates the Sharpe Ratio of a portfolio.\n",
    "    This ratio helps evaluate the return of an investment compared to its risk.\n",
    "    A higher Sharpe Ratio means better risk-adjusted returns.\n",
    "\n",
    "    Formula:\n",
    "        Sharpe Ratio = (Expected Portfolio Return - Risk-Free Rate) / Portfolio Standard Deviation\n",
    "\n",
    "    Args:\n",
    "        weights (np.array): (N,) Array of portfolio weights for each asset.\n",
    "        log_returns (pd.DataFrame): (M, N) DataFrame of daily logarithmic returns for assets.\n",
    "        cov_matrix (pd.DataFrame or np.array): (N, N) Annualized covariance matrix of asset returns.\n",
    "        risk_free_rate (float): The annualized risk-free rate.\n",
    "                                (Return on an investment with zero risk, like a government bond).\n",
    "\n",
    "    Returns:\n",
    "        float: The Sharpe Ratio of the portfolio. Returns -np.inf if weights sum to zero\n",
    "               to prevent division by zero errors and guide optimization.\n",
    "    \"\"\"\n",
    "    return (expected_return (weights, log_returns) - risk_free_rate) / standard_deviation (weights, cov_matrix)"
   ]
  },
  {
   "cell_type": "markdown",
   "id": "25ecf302-180b-4157-aa3e-855e3931bce5",
   "metadata": {},
   "source": [
    "Section 6: Portfolio Optimization"
   ]
  },
  {
   "cell_type": "code",
   "execution_count": 184,
   "id": "9dbdb05c-d8f2-482b-88ca-15346dac7766",
   "metadata": {},
   "outputs": [],
   "source": [
    "# Set the risk-free rate, which is the return on an investment with no risk (e.g., a government bond).\n",
    "risk_free_rate = 0.2\n",
    "\n",
    "# The commented-out code below shows an alternative way to get the risk-free rate from an external source (FRED).\n",
    "# fred = Fred(api_key = '895bdf9c71c9f1991abccf3f2f4b9a7e')\n",
    "# ten_year_treasury_rate = fred.get_series_latest_release('GS10') / 100\n",
    "\n",
    "# risk_free_rate = ten_year_treasury_rate.iloc[-1]\n",
    "# print(risk_free_rate)\n"
   ]
  },
  {
   "cell_type": "code",
   "execution_count": 185,
   "id": "8e78f435-e592-4cbc-ba41-bb02fa5d60e2",
   "metadata": {},
   "outputs": [
    {
     "name": "stdout",
     "output_type": "stream",
     "text": [
      "[0.08333333 0.08333333 0.08333333 0.08333333 0.08333333 0.08333333\n",
      " 0.08333333 0.08333333 0.08333333 0.08333333 0.08333333 0.08333333]\n"
     ]
    }
   ],
   "source": [
    "# Define a function that returns the negative Sharpe Ratio.\n",
    "# This is done since the optimization function (scipy.optimize.minimize()) finds minimums, so minimizing the negative Sharpe Ratio maximizes the positive one.\n",
    "def neg_sharpe_ratio(weights, log_returns, cov_matrix, risk_free_rate):\n",
    "    \"\"\"\n",
    "    Calculates the negative Sharpe Ratio, used for minimization.\n",
    "    Since the `scipy.optimize.minimize` function finds the lowest value,\n",
    "    minimizing the negative Sharpe Ratio is done to maximize the positive Sharpe Ratio.\n",
    "    \n",
    "    Args:\n",
    "        weights (np.array): (N,) Array of portfolio weights for each asset.\n",
    "        log_returns (pd.DataFrame): (M, N) DataFrame of daily logarithmic returns for assets.\n",
    "        cov_matrix (pd.DataFrame or np.array): (N, N) Annualized covariance matrix of asset returns.\n",
    "        risk_free_rate (float): The annualized risk-free rate.\n",
    "\n",
    "    Returns:\n",
    "        float: The negative Sharpe Ratio.\n",
    "    \"\"\"\n",
    "    return -sharpe_ratio(weights, log_returns, cov_matrix, risk_free_rate)\n",
    "\n",
    " \n",
    "\n",
    "# Define constraints for the optimization: the sum of all investment weights must equal 1 (100% of the portfolio).\n",
    "# The constraints variable is a dictionary with two keys: 'type' and 'fun'. 'type' is set to 'eq', which means \"equality constraint,\" and 'fun' is assigned the function check_sum, which checks if the sum of the portfolio weights equal 1.\n",
    "constraints = {'type': 'eq', 'fun': lambda weights: np.sum(weights)-1}\n",
    "\n",
    "# Set bounds for each weight: each stock's weight must be between 0% (no short selling) and 50% (no more than half of the portfolio in one stock).\n",
    "bounds = [(0, 0.5) for _ in range(len(tickers))] \n",
    "\n",
    "# Set initial weights for the optimization process, starting with an equal distribution across all stocks.\n",
    "initial_weights = np.array([1/len(tickers)]*len(tickers))\n",
    "print(initial_weights)"
   ]
  },
  {
   "cell_type": "code",
   "execution_count": 186,
   "id": "c075c584-f0f4-4d40-8a95-a50b0c37dd67",
   "metadata": {},
   "outputs": [],
   "source": [
    "# Use the 'minimize' function to find the optimal portfolio weights.\n",
    "# It uses a method called 'SLSQP' to find the best weights that maximize the Sharpe Ratio (by minimizing its negative).\n",
    "optimized_results = minimize(neg_sharpe_ratio, initial_weights, args=(log_returns, cov_matrix, risk_free_rate), method='SLSQP', constraints=constraints, bounds=bounds)\n",
    "# In Detail:\n",
    "# 1. minimize(...):\n",
    "    # Function from scipy.optimize library. Its main job is to find the input values (in our case, the weights of different stocks)\n",
    "    # that make a specific function (the first argument) as small as possible.\n",
    "    # Since the goal is to maximize the Sharpe Ratio (a measure of return per unit of risk), the function neg_sharpe_ratio that returns the negative\n",
    "    # of the Sharpe Ratio was defined above. By minimizing this negative value, the positive Sharpe Ratio is maximized.\n",
    "# 2. neg_sharpe_ratio (First argument):\n",
    "    # Function function that 'minimize' will try to make as small as possible.\n",
    "# 3. initial_weights (Second argument):\n",
    "    # The minimize algorithm begins its search for the best weights from this initial set.\n",
    "# 4. args=(log_returns, cov_matrix, risk_free_rate) (Third argument):\n",
    "    # Tuple of additional arguments that need to be passed to the neg_sharpe_ratio function besides the weights.\n",
    "    # The minimize function only changes the weights directly. log_returns, cov_matrix, and risk_free_rate are constant values needed for \n",
    "    # the Sharpe Ratio calculation but are not optimized themselves.\n",
    "# 5. method='SLSQP' (Fourth argument):\n",
    "    # Particular mathematical algorithm used by minimize to perform the optimization.\n",
    "    # 'SLSQP' stands for \"Sequential Least Squares Quadratic Programming.\" It is a common and robust method suitable for optimizing functions with both\n",
    "    # equality and inequality constraints.  It's good at handling problems where the relationships aren't simple straight lines.\n",
    "# 6. constraints = constraints (Firth argument):\n",
    "    # Defines the rules the solution must follow.\n",
    "# 7. bounds=bounds (Sixth argument):\n",
    "    # This sets the individual limits for each weight.\n",
    "\n"
   ]
  },
  {
   "cell_type": "code",
   "execution_count": 187,
   "id": "75109c41-3461-4f41-b09a-304c41a87fa6",
   "metadata": {},
   "outputs": [],
   "source": [
    "# Extract the optimal (best) weights found by the optimization process.\n",
    "optimal_weights = optimized_results.x"
   ]
  },
  {
   "cell_type": "markdown",
   "id": "0772c013-b348-4433-a759-2ad521fff991",
   "metadata": {},
   "source": [
    "Section 7: Analyze the optimal Portfolio"
   ]
  },
  {
   "cell_type": "code",
   "execution_count": 189,
   "id": "6cc6144a-f1bf-4ba8-9a6e-0d007a3ff790",
   "metadata": {},
   "outputs": [
    {
     "name": "stdout",
     "output_type": "stream",
     "text": [
      "Optimal Weights:\n",
      "\n",
      "AAPL: 0.0394\n",
      "MSFT: 0.5000\n",
      "GOOG: 0.0000\n",
      "AMZN: 0.4606\n",
      "JPM: 0.0000\n",
      "GS: 0.0000\n",
      "XOM: 0.0000\n",
      "PG: 0.0000\n",
      "KO: 0.0000\n",
      "JNJ: 0.0000\n",
      "SPY: 0.0000\n",
      "GLD: 0.0000\n",
      "\n",
      "\n",
      "Expected Annual Return: 0.2373\n",
      "Expected Volatility: 0.2709\n",
      "Sharpe Ratio: 0.1379\n"
     ]
    }
   ],
   "source": [
    "# Print the optimal weights for each stock\n",
    "print(\"Optimal Weights:\\n\")\n",
    "for ticker, weight in zip(tickers, optimal_weights):\n",
    "    print(f\"{ticker}: {weight:.4f}\")\n",
    "print(\"\\n\")\n",
    "\n",
    "# Calculate the expected annual return, volatility, and Sharpe Ratio for the portfolio with the optimal weights.\n",
    "optimal_portfolio_return = expected_return(optimal_weights, log_returns)\n",
    "optimal_portfolio_volatility = standard_deviation(optimal_weights, cov_matrix)\n",
    "optimal_sharpe_ratio = sharpe_ratio(optimal_weights, log_returns, cov_matrix, risk_free_rate)\n",
    "\n",
    "# Print the calculated performance metrics for the optimal portfolio.\n",
    "print(f\"Expected Annual Return: {optimal_portfolio_return:.4f}\")\n",
    "print(f\"Expected Volatility: {optimal_portfolio_volatility:.4f}\")\n",
    "print(f\"Sharpe Ratio: {optimal_sharpe_ratio:.4f}\")\n"
   ]
  },
  {
   "cell_type": "code",
   "execution_count": 190,
   "id": "311b5b0a-eb20-4166-9107-a324d4bb25f2",
   "metadata": {},
   "outputs": [
    {
     "data": {
      "image/png": "[encoded data removed]",
      "text/plain": [
       "<Figure size 1000x600 with 1 Axes>"
      ]
     },
     "metadata": {},
     "output_type": "display_data"
    }
   ],
   "source": [
    "import matplotlib.pyplot as plt # Import the plotting library\n",
    "\n",
    "# Plot optimal weights against assets in a bar chart\n",
    "plt.figure(figsize=(10,6))\n",
    "plt.bar(tickers, optimal_weights)\n",
    "\n",
    "plt.xlabel('Assets')\n",
    "plt.ylabel('Optimal Weights')\n",
    "plt.title('Optimal Portfolio Weights')\n",
    "\n",
    "plt.show()"
   ]
  },
  {
   "cell_type": "markdown",
   "id": "f5e32c0f-ec37-4ee6-aef8-8d0c46f0b8d0",
   "metadata": {},
   "source": [
    "Section LAST: Further Optimization Strategies"
   ]
  },
  {
   "cell_type": "markdown",
   "id": "6100f148-307a-4aec-94cc-6108671a37cc",
   "metadata": {},
   "source": [
    "# 1. 'SLSQP' method used by `scipy.optimize.minimize`: \n",
    "    # 'SLSQP' method used by `scipy.optimize.minimize` is a \"local optimizer\".\n",
    "    # This means it finds the best solution (the lowest point for the negative Sharpe Ratio)\n",
    "    # in the immediate \"neighborhood\" of its starting point (`initial_weights`).\n",
    "        # Strategy 1: Multiple Random Starts (Recommended for practical global search)\n",
    "        # To increase the chance of finding the *global* minimum (the absolute best Sharpe Ratio\n",
    "        # across all possible portfolios), run the optimization multiple times.\n",
    "        # For each iteration, a randomly generated set of `initial_weights` can be used.\n",
    "        # Then, compare the Sharpe Ratios from all these runs and pick the portfolio\n",
    "        # that yielded the highest Sharpe Ratio."
   ]
  }
 ],
 "metadata": {
  "kernelspec": {
   "display_name": "Python [conda env:base] *",
   "language": "python",
   "name": "conda-base-py"
  },
  "language_info": {
   "codemirror_mode": {
    "name": "ipython",
    "version": 3
   },
   "file_extension": ".py",
   "mimetype": "text/x-python",
   "name": "python",
   "nbconvert_exporter": "python",
   "pygments_lexer": "ipython3",
   "version": "3.12.7"
  }
 },
 "nbformat": 4,
 "nbformat_minor": 5
}
